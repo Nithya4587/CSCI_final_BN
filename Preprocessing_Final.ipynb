{
 "cells": [
  {
   "cell_type": "code",
   "execution_count": 4,
   "id": "bb38c0f9-38d4-4a43-acac-b10b333e778f",
   "metadata": {},
   "outputs": [],
   "source": [
    "import pandas as pd\n",
    "import matplotlib.pyplot as plt\n",
    "from sklearn.preprocessing import StandardScaler\n",
    "from sklearn.neighbors import KNeighborsClassifier\n",
    "from sklearn.model_selection import train_test_split\n",
    "import scipy.stats as stats"
   ]
  },
  {
   "cell_type": "code",
   "execution_count": 5,
   "id": "d4702f32-d8a6-480a-90b4-5e74139929fd",
   "metadata": {},
   "outputs": [
    {
     "data": {
      "text/html": [
       "<div>\n",
       "<style scoped>\n",
       "    .dataframe tbody tr th:only-of-type {\n",
       "        vertical-align: middle;\n",
       "    }\n",
       "\n",
       "    .dataframe tbody tr th {\n",
       "        vertical-align: top;\n",
       "    }\n",
       "\n",
       "    .dataframe thead th {\n",
       "        text-align: right;\n",
       "    }\n",
       "</style>\n",
       "<table border=\"1\" class=\"dataframe\">\n",
       "  <thead>\n",
       "    <tr style=\"text-align: right;\">\n",
       "      <th></th>\n",
       "      <th>TYPE</th>\n",
       "      <th>YEAR</th>\n",
       "      <th>MONTH</th>\n",
       "      <th>DAY</th>\n",
       "      <th>HOUR</th>\n",
       "      <th>MINUTE</th>\n",
       "      <th>HUNDRED_BLOCK</th>\n",
       "      <th>NEIGHBOURHOOD</th>\n",
       "      <th>X</th>\n",
       "      <th>Y</th>\n",
       "      <th>Latitude</th>\n",
       "      <th>Longitude</th>\n",
       "    </tr>\n",
       "  </thead>\n",
       "  <tbody>\n",
       "    <tr>\n",
       "      <th>0</th>\n",
       "      <td>Other Theft</td>\n",
       "      <td>2003</td>\n",
       "      <td>5</td>\n",
       "      <td>12</td>\n",
       "      <td>16.0</td>\n",
       "      <td>15.0</td>\n",
       "      <td>9XX TERMINAL AVE</td>\n",
       "      <td>Strathcona</td>\n",
       "      <td>493906.5</td>\n",
       "      <td>5457452.47</td>\n",
       "      <td>49.269802</td>\n",
       "      <td>-123.083763</td>\n",
       "    </tr>\n",
       "    <tr>\n",
       "      <th>1</th>\n",
       "      <td>Other Theft</td>\n",
       "      <td>2003</td>\n",
       "      <td>5</td>\n",
       "      <td>7</td>\n",
       "      <td>15.0</td>\n",
       "      <td>20.0</td>\n",
       "      <td>9XX TERMINAL AVE</td>\n",
       "      <td>Strathcona</td>\n",
       "      <td>493906.5</td>\n",
       "      <td>5457452.47</td>\n",
       "      <td>49.269802</td>\n",
       "      <td>-123.083763</td>\n",
       "    </tr>\n",
       "    <tr>\n",
       "      <th>2</th>\n",
       "      <td>Other Theft</td>\n",
       "      <td>2003</td>\n",
       "      <td>4</td>\n",
       "      <td>23</td>\n",
       "      <td>16.0</td>\n",
       "      <td>40.0</td>\n",
       "      <td>9XX TERMINAL AVE</td>\n",
       "      <td>Strathcona</td>\n",
       "      <td>493906.5</td>\n",
       "      <td>5457452.47</td>\n",
       "      <td>49.269802</td>\n",
       "      <td>-123.083763</td>\n",
       "    </tr>\n",
       "    <tr>\n",
       "      <th>3</th>\n",
       "      <td>Other Theft</td>\n",
       "      <td>2003</td>\n",
       "      <td>4</td>\n",
       "      <td>20</td>\n",
       "      <td>11.0</td>\n",
       "      <td>15.0</td>\n",
       "      <td>9XX TERMINAL AVE</td>\n",
       "      <td>Strathcona</td>\n",
       "      <td>493906.5</td>\n",
       "      <td>5457452.47</td>\n",
       "      <td>49.269802</td>\n",
       "      <td>-123.083763</td>\n",
       "    </tr>\n",
       "    <tr>\n",
       "      <th>4</th>\n",
       "      <td>Other Theft</td>\n",
       "      <td>2003</td>\n",
       "      <td>4</td>\n",
       "      <td>12</td>\n",
       "      <td>17.0</td>\n",
       "      <td>45.0</td>\n",
       "      <td>9XX TERMINAL AVE</td>\n",
       "      <td>Strathcona</td>\n",
       "      <td>493906.5</td>\n",
       "      <td>5457452.47</td>\n",
       "      <td>49.269802</td>\n",
       "      <td>-123.083763</td>\n",
       "    </tr>\n",
       "  </tbody>\n",
       "</table>\n",
       "</div>"
      ],
      "text/plain": [
       "          TYPE  YEAR  MONTH  DAY  HOUR  MINUTE     HUNDRED_BLOCK  \\\n",
       "0  Other Theft  2003      5   12  16.0    15.0  9XX TERMINAL AVE   \n",
       "1  Other Theft  2003      5    7  15.0    20.0  9XX TERMINAL AVE   \n",
       "2  Other Theft  2003      4   23  16.0    40.0  9XX TERMINAL AVE   \n",
       "3  Other Theft  2003      4   20  11.0    15.0  9XX TERMINAL AVE   \n",
       "4  Other Theft  2003      4   12  17.0    45.0  9XX TERMINAL AVE   \n",
       "\n",
       "  NEIGHBOURHOOD         X           Y   Latitude   Longitude  \n",
       "0    Strathcona  493906.5  5457452.47  49.269802 -123.083763  \n",
       "1    Strathcona  493906.5  5457452.47  49.269802 -123.083763  \n",
       "2    Strathcona  493906.5  5457452.47  49.269802 -123.083763  \n",
       "3    Strathcona  493906.5  5457452.47  49.269802 -123.083763  \n",
       "4    Strathcona  493906.5  5457452.47  49.269802 -123.083763  "
      ]
     },
     "execution_count": 5,
     "metadata": {},
     "output_type": "execute_result"
    }
   ],
   "source": [
    "\n",
    "data = pd.read_csv('./crime.csv')\n",
    "\n",
    "data.head()"
   ]
  },
  {
   "cell_type": "markdown",
   "id": "1531c575-08cb-4ffe-9b4a-bd14b0bf0d30",
   "metadata": {},
   "source": [
    "# Missing Values"
   ]
  },
  {
   "cell_type": "code",
   "execution_count": 6,
   "id": "c6c4db86-d92b-431a-85cf-cfc626dc558b",
   "metadata": {},
   "outputs": [
    {
     "data": {
      "text/plain": [
       "(TYPE                 0\n",
       " YEAR                 0\n",
       " MONTH                0\n",
       " DAY                  0\n",
       " HOUR             54362\n",
       " MINUTE           54362\n",
       " HUNDRED_BLOCK       13\n",
       " NEIGHBOURHOOD    56624\n",
       " X                    0\n",
       " Y                    0\n",
       " Latitude             0\n",
       " Longitude            0\n",
       " dtype: int64,\n",
       " TYPE              object\n",
       " YEAR               int64\n",
       " MONTH              int64\n",
       " DAY                int64\n",
       " HOUR             float64\n",
       " MINUTE           float64\n",
       " HUNDRED_BLOCK     object\n",
       " NEIGHBOURHOOD     object\n",
       " X                float64\n",
       " Y                float64\n",
       " Latitude         float64\n",
       " Longitude        float64\n",
       " dtype: object,\n",
       " 48838)"
      ]
     },
     "execution_count": 6,
     "metadata": {},
     "output_type": "execute_result"
    }
   ],
   "source": [
    "# Checking for missing values, data types, and looking for duplicate entries\n",
    "missing_data = data.isnull().sum()\n",
    "data_types = data.dtypes\n",
    "duplicate_count = data.duplicated().sum()\n",
    "\n",
    "missing_data, data_types, duplicate_count"
   ]
  },
  {
   "cell_type": "markdown",
   "id": "f4a84867-fa4c-4485-8fd4-598c850a585b",
   "metadata": {},
   "source": [
    "## Handling Missing Values"
   ]
  },
  {
   "cell_type": "code",
   "execution_count": 11,
   "id": "37a267d3-3622-457e-bb9a-0b960d3f3d37",
   "metadata": {},
   "outputs": [
    {
     "data": {
      "text/plain": [
       "((530652, 12), (474015, 12))"
      ]
     },
     "execution_count": 11,
     "metadata": {},
     "output_type": "execute_result"
    }
   ],
   "source": [
    "cleaned_data = data.dropna(subset=['NEIGHBOURHOOD', 'HUNDRED_BLOCK'])\n",
    "\n",
    "original_shape = data.shape\n",
    "cleaned_shape = cleaned_data.shape\n",
    "\n",
    "original_shape, cleaned_shape"
   ]
  },
  {
   "cell_type": "markdown",
   "id": "9df4475a-92ea-45ea-8f57-b99e637029c5",
   "metadata": {},
   "source": [
    "## Handling Duplicate Values"
   ]
  },
  {
   "cell_type": "code",
   "execution_count": 12,
   "id": "915c6a89-74c6-47cd-928d-8a2fe6e12db9",
   "metadata": {},
   "outputs": [
    {
     "data": {
      "text/plain": [
       "(474014, 12)"
      ]
     },
     "execution_count": 12,
     "metadata": {},
     "output_type": "execute_result"
    }
   ],
   "source": [
    "# Removing duplicate entries\n",
    "cleaned_data_unique = cleaned_data.drop_duplicates()\n",
    "\n",
    "# Displaying the shape of the data after removing duplicates\n",
    "unique_cleaned_shape = cleaned_data_unique.shape\n",
    "unique_cleaned_shape"
   ]
  },
  {
   "cell_type": "code",
   "execution_count": 13,
   "id": "ae9b793b-9033-4804-8964-2bbadeec6908",
   "metadata": {},
   "outputs": [
    {
     "data": {
      "text/plain": [
       "(array(['Other Theft', 'Break and Enter Residential/Other', 'Mischief',\n",
       "        'Break and Enter Commercial', 'Theft from Vehicle',\n",
       "        'Vehicle Collision or Pedestrian Struck (with Injury)',\n",
       "        'Vehicle Collision or Pedestrian Struck (with Fatality)',\n",
       "        'Theft of Vehicle', 'Theft of Bicycle'], dtype=object),\n",
       " array(['Strathcona', 'Kerrisdale', 'Dunbar-Southlands',\n",
       "        'Grandview-Woodland', 'Sunset', 'West End',\n",
       "        'Central Business District', 'Hastings-Sunrise',\n",
       "        'Victoria-Fraserview', 'Fairview', 'Kensington-Cedar Cottage',\n",
       "        'West Point Grey', 'Shaughnessy', 'Renfrew-Collingwood',\n",
       "        'Killarney', 'Riley Park', 'Arbutus Ridge', 'Musqueam',\n",
       "        'Mount Pleasant', 'Kitsilano', 'Stanley Park', 'South Cambie',\n",
       "        'Marpole', 'Oakridge'], dtype=object))"
      ]
     },
     "execution_count": 13,
     "metadata": {},
     "output_type": "execute_result"
    }
   ],
   "source": [
    "type_categories = cleaned_data_unique['TYPE'].unique()\n",
    "neighbourhood_categories = cleaned_data_unique['NEIGHBOURHOOD'].unique()\n",
    "\n",
    "type_categories, neighbourhood_categories"
   ]
  },
  {
   "cell_type": "code",
   "execution_count": 15,
   "id": "1470a562-228e-4692-b91d-4d83a8ff6c6d",
   "metadata": {},
   "outputs": [
    {
     "data": {
      "text/plain": [
       "(TYPE\n",
       " Theft from Vehicle                                        170888\n",
       " Mischief                                                   70157\n",
       " Break and Enter Residential/Other                          60856\n",
       " Other Theft                                                52160\n",
       " Theft of Vehicle                                           38351\n",
       " Break and Enter Commercial                                 33841\n",
       " Theft of Bicycle                                           25620\n",
       " Vehicle Collision or Pedestrian Struck (with Injury)       21887\n",
       " Vehicle Collision or Pedestrian Struck (with Fatality)       254\n",
       " Name: count, dtype: int64,\n",
       " NEIGHBOURHOOD\n",
       " Central Business District    110944\n",
       " West End                      41352\n",
       " Fairview                      32161\n",
       " Mount Pleasant                30534\n",
       " Grandview-Woodland            27180\n",
       " Renfrew-Collingwood           26761\n",
       " Kitsilano                     26698\n",
       " Kensington-Cedar Cottage      24941\n",
       " Strathcona                    20917\n",
       " Hastings-Sunrise              18126\n",
       " Sunset                        17395\n",
       " Marpole                       13083\n",
       " Riley Park                    12520\n",
       " Victoria-Fraserview           10818\n",
       " Killarney                     10475\n",
       " Oakridge                       8035\n",
       " Dunbar-Southlands              7746\n",
       " Kerrisdale                     7447\n",
       " Arbutus Ridge                  6066\n",
       " West Point Grey                5870\n",
       " Shaughnessy                    5426\n",
       " South Cambie                   5212\n",
       " Stanley Park                   3775\n",
       " Musqueam                        532\n",
       " Name: count, dtype: int64)"
      ]
     },
     "execution_count": 15,
     "metadata": {},
     "output_type": "execute_result"
    }
   ],
   "source": [
    "# Count of different types of crimes\n",
    "crime_type_counts = cleaned_data_unique['TYPE'].value_counts()\n",
    "\n",
    "# Distribution of crimes across neighborhoods\n",
    "crime_neighbourhood_counts = cleaned_data_unique['NEIGHBOURHOOD'].value_counts()\n",
    "\n",
    "crime_type_counts, crime_neighbourhood_counts"
   ]
  },
  {
   "cell_type": "code",
   "execution_count": null,
   "id": "a24371f0-4e66-4cff-9288-26f786cde137",
   "metadata": {},
   "outputs": [],
   "source": []
  }
 ],
 "metadata": {
  "kernelspec": {
   "display_name": "Python 3 (ipykernel)",
   "language": "python",
   "name": "python3"
  },
  "language_info": {
   "codemirror_mode": {
    "name": "ipython",
    "version": 3
   },
   "file_extension": ".py",
   "mimetype": "text/x-python",
   "name": "python",
   "nbconvert_exporter": "python",
   "pygments_lexer": "ipython3",
   "version": "3.12.1"
  }
 },
 "nbformat": 4,
 "nbformat_minor": 5
}
